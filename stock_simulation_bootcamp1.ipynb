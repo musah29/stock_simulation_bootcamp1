{
 "cells": [
  {
   "cell_type": "markdown",
   "id": "09b824f2",
   "metadata": {},
   "source": [
    "Sales and Operations Planning Project\n",
    "\n",
    "\n",
    "In this project, you are going to simulate a sales and operations planning using the zero-stock level strategy. Write a Python program that asks the user to enter the following data:\n",
    "\n",
    "- An initial stock level for a product\n",
    "\n",
    "- The number of month(s) to plan\n",
    "\n",
    "- The planned sales quantity for each month\n",
    "\n",
    "Based on this data, calculate the required production quantity as follows:\n",
    "\n",
    "- If the sales quantity is smaller than the stock level of the previous month, the production quantity is 0\n",
    "\n",
    "- If the sales quantity is larger than the stock level of the previous month, the production quantity is this difference"
   ]
  },
  {
   "cell_type": "code",
   "execution_count": 1,
   "id": "c450b8cb",
   "metadata": {},
   "outputs": [
    {
     "name": "stdout",
     "output_type": "stream",
     "text": [
      "Please enter an initial stock level: 1500\n",
      "Please enter the number of months to plan: 3\n",
      "Please enter the planned sales quantity: 900\n",
      "Please enter the planned sales quantity: 200\n",
      "Please enter the planned sales quantity: 700\n",
      "\n",
      "Production quantity month 1  -  0\n",
      "Production quantity month 2  -  0\n",
      "Production quantity month 3  -  300\n"
     ]
    }
   ],
   "source": [
    "#read initial_stock and num_months from the user\n",
    "initial_stock = int(input(\"Please enter an initial stock level: \"))\n",
    "num_months = int(input(\"Please enter the number of months to plan: \"))\n",
    "\n",
    "#setting the conditions\n",
    "sales_quantity = []\n",
    "for index in range(num_months):\n",
    "    qty = int(input(\"Please enter the planned sales quantity: \"))\n",
    "    sales_quantity.append(qty)\n",
    "\n",
    "#production list\n",
    "production_quantity = []\n",
    "\n",
    "#calculate the production_quantity\n",
    "for ind in sales_quantity:\n",
    "    if initial_stock > ind:\n",
    "        production_quantity.append(0)\n",
    "        initial_stock = initial_stock - ind\n",
    "    elif initial_stock < 0:\n",
    "        production_quantity.append(ind)\n",
    "    else:\n",
    "        initial_stock = initial_stock - ind\n",
    "        production_quantity.append(abs(initial_stock))\n",
    "            \n",
    "print()        \n",
    "#print the result\n",
    "i = 1\n",
    "for x in production_quantity:\n",
    "    print(\"Production quantity month\", i, \" - \", x)\n",
    "    i = i+1\n"
   ]
  },
  {
   "cell_type": "code",
   "execution_count": null,
   "id": "38006edf",
   "metadata": {},
   "outputs": [],
   "source": []
  },
  {
   "cell_type": "code",
   "execution_count": null,
   "id": "d3296be2",
   "metadata": {},
   "outputs": [],
   "source": []
  }
 ],
 "metadata": {
  "kernelspec": {
   "display_name": "Python 3 (ipykernel)",
   "language": "python",
   "name": "python3"
  },
  "language_info": {
   "codemirror_mode": {
    "name": "ipython",
    "version": 3
   },
   "file_extension": ".py",
   "mimetype": "text/x-python",
   "name": "python",
   "nbconvert_exporter": "python",
   "pygments_lexer": "ipython3",
   "version": "3.9.13"
  }
 },
 "nbformat": 4,
 "nbformat_minor": 5
}
